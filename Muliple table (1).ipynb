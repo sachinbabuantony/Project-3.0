{
 "cells": [
  {
   "cell_type": "markdown",
   "id": "50f2b9cb",
   "metadata": {},
   "source": [
    "# Multiplication table of a Given integer"
   ]
  },
  {
   "cell_type": "code",
   "execution_count": 46,
   "id": "5ff5cd5e",
   "metadata": {},
   "outputs": [
    {
     "name": "stdout",
     "output_type": "stream",
     "text": [
      "Enter an Integer :20\n",
      "--------------------\n",
      "Multiplication table of 20\n",
      "1X20 = 20\n",
      "2X20 = 40\n",
      "3X20 = 60\n",
      "4X20 = 80\n",
      "5X20 = 100\n",
      "6X20 = 120\n",
      "7X20 = 140\n",
      "8X20 = 160\n",
      "9X20 = 180\n",
      "10X20 = 200\n",
      "11X20 = 220\n",
      "12X20 = 240\n",
      "--------------------\n"
     ]
    }
   ],
   "source": [
    "InputNum = int(input(\"Enter an Integer :\")) #asking for the number\n",
    "print(\"-\"*20)\n",
    "i = 1\n",
    "print(\"Multiplication table of {InputNum}\".format(InputNum=InputNum))\n",
    "while (i<=12):\n",
    "    print( \"{i}X{InputNum} =\".format(i=i,InputNum=InputNum) , i*InputNum) #printing (i X InputNum = multiple)\n",
    "    i=i+1\n",
    "print (\"-\"*20)    "
   ]
  },
  {
   "cell_type": "code",
   "execution_count": null,
   "id": "368c4e2a",
   "metadata": {},
   "outputs": [],
   "source": []
  }
 ],
 "metadata": {
  "kernelspec": {
   "display_name": "Python 3",
   "language": "python",
   "name": "python3"
  },
  "language_info": {
   "codemirror_mode": {
    "name": "ipython",
    "version": 3
   },
   "file_extension": ".py",
   "mimetype": "text/x-python",
   "name": "python",
   "nbconvert_exporter": "python",
   "pygments_lexer": "ipython3",
   "version": "3.8.8"
  }
 },
 "nbformat": 4,
 "nbformat_minor": 5
}
